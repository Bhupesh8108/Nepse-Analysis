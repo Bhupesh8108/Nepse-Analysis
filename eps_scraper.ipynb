{
 "cells": [
  {
   "cell_type": "code",
   "execution_count": null,
   "metadata": {},
   "outputs": [],
   "source": [
    "# this notebook help to abstract the key information of company from the chukul website\n",
    "# these data are very useful for studing the patter of insider trading\n",
    "from selenium import webdriver\n",
    "from selenium.webdriver.common.by import By\n",
    "from selenium.webdriver.support.ui import Select\n",
    "from selenium.webdriver.support.ui import WebDriverWait\n",
    "from selenium.webdriver.support import expected_conditions as EC\n",
    "driver = webdriver.Chrome()\n",
    "import pandas as pd\n",
    "driver.get('https://chukul.com/#/fundamental-scan')\n",
    "dropdowns = driver.find_elements(By.CLASS_NAME,'q-select__focus-target')\n",
    "year_dropdown = dropdowns[0]\n",
    "year_options= ['074/075','075/076','076/077','077/078','078/079','079/080']\n",
    "quarter_options = ['q1','q2','q3','q4']\n",
    "sector_options = ['Banking','Hydropower','Manufacturing','Investment','Life Insurance']\n",
    "quarter_dropdown = dropdowns[1]\n",
    "table = pd.DataFrame(columns=['Symbol', 'Fiscal Year', 'Quarter', 'arrow_upwardEps',\n",
    "       'arrow_upwardDist EPS', 'arrow_upwardPE Ratio', 'arrow_upwardPB Ratio',\n",
    "       'arrow_upwardClose Price', 'arrow_upwardNet Worth',\n",
    "       'arrow_upwardGram Value', 'arrow_upwardPeg Value'])\n",
    "\n",
    "\n"
   ]
  },
  {
   "cell_type": "code",
   "execution_count": null,
   "metadata": {},
   "outputs": [],
   "source": [
    "#before running this selet the all row option in the chukul website and you are good to go\n",
    "import time\n",
    "for year_option in year_options:\n",
    "    year_dropdown.click()\n",
    "    year_dropdown.find_element(By.XPATH,f\"//div[@class='q-item__label']/span[text()='{year_option}']\").click()\n",
    "    for quarter_option in quarter_options:\n",
    "        quarter_dropdown.click()\n",
    "        quarter_dropdown.find_element(By.XPATH,f\"//div[@class='q-item__label']/span[text()='{quarter_option}']\").click()\n",
    "        time.sleep(1)\n",
    "        table = pd.concat([table,pd.read_html(driver.page_source)[0]],axis=0)\n",
    "\n",
    "    \n",
    "\n"
   ]
  },
  {
   "cell_type": "code",
   "execution_count": null,
   "metadata": {},
   "outputs": [],
   "source": [
    "# save the donloaded dataframe as excel sheet\n",
    "table.to_excel('eps.xlsx',index=False)"
   ]
  }
 ],
 "metadata": {
  "kernelspec": {
   "display_name": "Python 3",
   "language": "python",
   "name": "python3"
  },
  "language_info": {
   "codemirror_mode": {
    "name": "ipython",
    "version": 3
   },
   "file_extension": ".py",
   "mimetype": "text/x-python",
   "name": "python",
   "nbconvert_exporter": "python",
   "pygments_lexer": "ipython3",
   "version": "3.10.12"
  }
 },
 "nbformat": 4,
 "nbformat_minor": 2
}
